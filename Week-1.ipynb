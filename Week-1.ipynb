{
 "cells": [
  {
   "cell_type": "code",
   "execution_count": null,
   "metadata": {},
   "outputs": [],
   "source": [
    "!pip install requests bs4 "
   ]
  },
  {
   "cell_type": "markdown",
   "metadata": {},
   "source": [
    "Given a list with a maximum size of 10^6, for every element of that list, find the first largest element at the right side of that element."
   ]
  },
  {
   "cell_type": "code",
   "execution_count": 6,
   "metadata": {},
   "outputs": [
    {
     "name": "stdout",
     "output_type": "stream",
     "text": [
      "[101, 25, 101, None]\n"
     ]
    }
   ],
   "source": [
    "sample_list = [100, 10, 25, 101]\n",
    "stack = []\n",
    "result = []\n",
    "\n",
    "for itr in range(len(sample_list)-1, -1, -1):\n",
    "    while len(stack) != 0 and stack[-1] <= sample_list[itr]:\n",
    "        stack.pop(-1)\n",
    "\n",
    "    stack.append(sample_list[itr])\n",
    "    \n",
    "    if len(stack) >= 2:\n",
    "        result.append(stack[-2])\n",
    "    else:\n",
    "        result.append(None)\n",
    "        \n",
    "result.reverse()\n",
    "print (result)"
   ]
  },
  {
   "cell_type": "code",
   "execution_count": 9,
   "metadata": {},
   "outputs": [],
   "source": [
    "import requests\n",
    "from bs4 import BeautifulSoup as bs"
   ]
  },
  {
   "cell_type": "code",
   "execution_count": 8,
   "metadata": {},
   "outputs": [],
   "source": [
    "url = \"http://www.hackerrank.com/dashboard\""
   ]
  },
  {
   "cell_type": "code",
   "execution_count": 10,
   "metadata": {},
   "outputs": [],
   "source": [
    "r = requests.get(url)"
   ]
  },
  {
   "cell_type": "code",
   "execution_count": 11,
   "metadata": {},
   "outputs": [],
   "source": [
    "soup = bs(r.text, \"html.parser\")"
   ]
  },
  {
   "cell_type": "code",
   "execution_count": 12,
   "metadata": {},
   "outputs": [
    {
     "data": {
      "text/plain": [
       "[<h3 class=\"base-card-title\" title=\"Interview Preparation Kit\">Interview Preparation Kit</h3>,\n",
       " <h3 class=\"base-card-title\" title=\"Add your first skill\">Add your first skill</h3>,\n",
       " <h3 class=\"base-card-title\" title=\"Interview Preparation Kit\">Interview Preparation Kit</h3>,\n",
       " <h3 class=\"base-card-title\" title=\"Learn to code in 30 days\">Learn to code in 30 days</h3>,\n",
       " <h3 class=\"base-card-title\" title=\"10 Days of Statistics\">10 Days of Statistics</h3>,\n",
       " <h3 class=\"base-card-title\" title=\"10 Days of Javascript\">10 Days of Javascript</h3>]"
      ]
     },
     "execution_count": 12,
     "metadata": {},
     "output_type": "execute_result"
    }
   ],
   "source": [
    "soup.find_all(\"h3\", attrs={\"class\", \"base-card-title\"})"
   ]
  },
  {
   "cell_type": "code",
   "execution_count": null,
   "metadata": {},
   "outputs": [],
   "source": [
    "from selenium import webdriver\n",
    "from selenium.webdriver.support.ui import WebDriverWait\n",
    "from selenium.webdriver.support import expected_conditions as EC\n",
    "from selenium.webdriver.common.by import By\n",
    "\n",
    "from bs4 import BeautifulSoup\n",
    "\n",
    "url = \"https://www.hackerrank.com/%s?hr_r=1\"\n",
    "\n",
    "usernames = [\n",
    "    \"skr\",\n",
    "    \"aslangungor5571\",\n",
    "    \"ceyaltay\",\n",
    "    \"bugrahatipoglu\",\n",
    "    \"burcukoc26\",\n",
    "    \"salmanderen\",\n",
    "    \"tari16\",\n",
    "    \"ilaydaselinturk\",\n",
    "    \"altunilayda8\",\n",
    "    \"ilgazeyidogan\",\n",
    "    \"rahimli_laman\",\n",
    "    \"seyma_kozoglu\",\n",
    "    \"tahafatih\",\n",
    "    \"y_s_abazaoglu\",\n",
    "    \"altuntasyunus50\",\n",
    "    \"salmanselen\",\n",
    "    \"buketbal\",\n",
    "    \"craigkrais\",\n",
    "    \"mehmetnur\",\n",
    "    \"sevval_\",\n",
    "    \"trkmnysmn06\",\n",
    "    \"seyma_kozoglu\",\n",
    "    \"iremnurdukan\",\n",
    "    \"alperenk7\",\n",
    "    \"dalkiranhacer7\"\n",
    "]\n",
    "\n",
    "driver_path = \"DRIVERPATH\"\n",
    "options = webdriver.ChromeOptions()\n",
    "options.add_argument('headless')\n",
    "browser = webdriver.Chrome(executable_path=driver_path)#, options=options)\n",
    "\n",
    "for username in usernames:\n",
    "    browser.get(url % username)\n",
    "\n",
    "    try:\n",
    "        wait = WebDriverWait(browser, 10)\n",
    "        h3 = wait.until(EC.visibility_of_element_located((By.CSS_SELECTOR, \".history-list-item\")))\n",
    "\n",
    "        source = browser.page_source\n",
    "\n",
    "        soup = BeautifulSoup(source, \"html.parser\")\n",
    "        first_item = soup.find(\"div\", attrs={\"class\", \"history-list-item\"})\n",
    "        time = first_item.find(\"span\").text\n",
    "    except:\n",
    "        continue\n",
    "\n",
    "    print (username, time)\n",
    "\n",
    "browser.close()"
   ]
  },
  {
   "cell_type": "code",
   "execution_count": 1,
   "metadata": {},
   "outputs": [],
   "source": [
    "import pandas as pd"
   ]
  },
  {
   "cell_type": "code",
   "execution_count": 2,
   "metadata": {},
   "outputs": [],
   "source": [
    "df = pd.read_csv(\"data.txt\", sep=\"\\t\")"
   ]
  },
  {
   "cell_type": "code",
   "execution_count": 3,
   "metadata": {},
   "outputs": [
    {
     "data": {
      "text/html": [
       "<div>\n",
       "<style scoped>\n",
       "    .dataframe tbody tr th:only-of-type {\n",
       "        vertical-align: middle;\n",
       "    }\n",
       "\n",
       "    .dataframe tbody tr th {\n",
       "        vertical-align: top;\n",
       "    }\n",
       "\n",
       "    .dataframe thead th {\n",
       "        text-align: right;\n",
       "    }\n",
       "</style>\n",
       "<table border=\"1\" class=\"dataframe\">\n",
       "  <thead>\n",
       "    <tr style=\"text-align: right;\">\n",
       "      <th></th>\n",
       "      <th>Year</th>\n",
       "      <th>Month</th>\n",
       "      <th>Bought</th>\n",
       "      <th>Cost</th>\n",
       "      <th>Consumed</th>\n",
       "    </tr>\n",
       "  </thead>\n",
       "  <tbody>\n",
       "    <tr>\n",
       "      <td>0</td>\n",
       "      <td>2018</td>\n",
       "      <td>1</td>\n",
       "      <td>500</td>\n",
       "      <td>30.51</td>\n",
       "      <td>450</td>\n",
       "    </tr>\n",
       "    <tr>\n",
       "      <td>1</td>\n",
       "      <td>2018</td>\n",
       "      <td>2</td>\n",
       "      <td>2000</td>\n",
       "      <td>139.63</td>\n",
       "      <td>900</td>\n",
       "    </tr>\n",
       "    <tr>\n",
       "      <td>2</td>\n",
       "      <td>2018</td>\n",
       "      <td>3</td>\n",
       "      <td>1500</td>\n",
       "      <td>110.97</td>\n",
       "      <td>950</td>\n",
       "    </tr>\n",
       "    <tr>\n",
       "      <td>3</td>\n",
       "      <td>2018</td>\n",
       "      <td>4</td>\n",
       "      <td>2000</td>\n",
       "      <td>145.19</td>\n",
       "      <td>900</td>\n",
       "    </tr>\n",
       "    <tr>\n",
       "      <td>4</td>\n",
       "      <td>2018</td>\n",
       "      <td>5</td>\n",
       "      <td>1000</td>\n",
       "      <td>73.98</td>\n",
       "      <td>870</td>\n",
       "    </tr>\n",
       "    <tr>\n",
       "      <td>5</td>\n",
       "      <td>2018</td>\n",
       "      <td>6</td>\n",
       "      <td>1000</td>\n",
       "      <td>73.98</td>\n",
       "      <td>800</td>\n",
       "    </tr>\n",
       "    <tr>\n",
       "      <td>6</td>\n",
       "      <td>2018</td>\n",
       "      <td>7</td>\n",
       "      <td>1000</td>\n",
       "      <td>73.98</td>\n",
       "      <td>1500</td>\n",
       "    </tr>\n",
       "    <tr>\n",
       "      <td>7</td>\n",
       "      <td>2018</td>\n",
       "      <td>8</td>\n",
       "      <td>250</td>\n",
       "      <td>18.47</td>\n",
       "      <td>1250</td>\n",
       "    </tr>\n",
       "    <tr>\n",
       "      <td>8</td>\n",
       "      <td>2018</td>\n",
       "      <td>9</td>\n",
       "      <td>1000</td>\n",
       "      <td>82.41</td>\n",
       "      <td>1500</td>\n",
       "    </tr>\n",
       "    <tr>\n",
       "      <td>9</td>\n",
       "      <td>2018</td>\n",
       "      <td>10</td>\n",
       "      <td>1000</td>\n",
       "      <td>91.67</td>\n",
       "      <td>1500</td>\n",
       "    </tr>\n",
       "    <tr>\n",
       "      <td>10</td>\n",
       "      <td>2018</td>\n",
       "      <td>11</td>\n",
       "      <td>1500</td>\n",
       "      <td>138.75</td>\n",
       "      <td>1400</td>\n",
       "    </tr>\n",
       "    <tr>\n",
       "      <td>11</td>\n",
       "      <td>2018</td>\n",
       "      <td>12</td>\n",
       "      <td>2500</td>\n",
       "      <td>256.25</td>\n",
       "      <td>1250</td>\n",
       "    </tr>\n",
       "    <tr>\n",
       "      <td>12</td>\n",
       "      <td>2019</td>\n",
       "      <td>1</td>\n",
       "      <td>500</td>\n",
       "      <td>50.88</td>\n",
       "      <td>1250</td>\n",
       "    </tr>\n",
       "    <tr>\n",
       "      <td>13</td>\n",
       "      <td>2019</td>\n",
       "      <td>2</td>\n",
       "      <td>500</td>\n",
       "      <td>50.88</td>\n",
       "      <td>1250</td>\n",
       "    </tr>\n",
       "  </tbody>\n",
       "</table>\n",
       "</div>"
      ],
      "text/plain": [
       "    Year  Month  Bought    Cost  Consumed\n",
       "0   2018      1     500   30.51       450\n",
       "1   2018      2    2000  139.63       900\n",
       "2   2018      3    1500  110.97       950\n",
       "3   2018      4    2000  145.19       900\n",
       "4   2018      5    1000   73.98       870\n",
       "5   2018      6    1000   73.98       800\n",
       "6   2018      7    1000   73.98      1500\n",
       "7   2018      8     250   18.47      1250\n",
       "8   2018      9    1000   82.41      1500\n",
       "9   2018     10    1000   91.67      1500\n",
       "10  2018     11    1500  138.75      1400\n",
       "11  2018     12    2500  256.25      1250\n",
       "12  2019      1     500   50.88      1250\n",
       "13  2019      2     500   50.88      1250"
      ]
     },
     "execution_count": 3,
     "metadata": {},
     "output_type": "execute_result"
    }
   ],
   "source": [
    "df"
   ]
  },
  {
   "cell_type": "code",
   "execution_count": 4,
   "metadata": {},
   "outputs": [
    {
     "data": {
      "text/plain": [
       "Index(['Year', 'Month', 'Bought', 'Cost', 'Consumed'], dtype='object')"
      ]
     },
     "execution_count": 4,
     "metadata": {},
     "output_type": "execute_result"
    }
   ],
   "source": [
    "df.columns"
   ]
  },
  {
   "cell_type": "code",
   "execution_count": 5,
   "metadata": {},
   "outputs": [
    {
     "data": {
      "text/plain": [
       "RangeIndex(start=0, stop=14, step=1)"
      ]
     },
     "execution_count": 5,
     "metadata": {},
     "output_type": "execute_result"
    }
   ],
   "source": [
    "df.index"
   ]
  },
  {
   "cell_type": "code",
   "execution_count": 6,
   "metadata": {},
   "outputs": [
    {
     "data": {
      "text/plain": [
       "Year          int64\n",
       "Month         int64\n",
       "Bought        int64\n",
       "Cost        float64\n",
       "Consumed      int64\n",
       "dtype: object"
      ]
     },
     "execution_count": 6,
     "metadata": {},
     "output_type": "execute_result"
    }
   ],
   "source": [
    "df.dtypes"
   ]
  },
  {
   "cell_type": "code",
   "execution_count": 8,
   "metadata": {},
   "outputs": [
    {
     "name": "stdout",
     "output_type": "stream",
     "text": [
      "250\n",
      "   Year  Month  Bought   Cost  Consumed\n",
      "7  2018      8     250  18.47      1250\n",
      "500\n",
      "    Year  Month  Bought   Cost  Consumed\n",
      "0   2018      1     500  30.51       450\n",
      "12  2019      1     500  50.88      1250\n",
      "13  2019      2     500  50.88      1250\n",
      "1000\n",
      "   Year  Month  Bought   Cost  Consumed\n",
      "4  2018      5    1000  73.98       870\n",
      "5  2018      6    1000  73.98       800\n",
      "6  2018      7    1000  73.98      1500\n",
      "8  2018      9    1000  82.41      1500\n",
      "9  2018     10    1000  91.67      1500\n",
      "1500\n",
      "    Year  Month  Bought    Cost  Consumed\n",
      "2   2018      3    1500  110.97       950\n",
      "10  2018     11    1500  138.75      1400\n",
      "2000\n",
      "   Year  Month  Bought    Cost  Consumed\n",
      "1  2018      2    2000  139.63       900\n",
      "3  2018      4    2000  145.19       900\n",
      "2500\n",
      "    Year  Month  Bought    Cost  Consumed\n",
      "11  2018     12    2500  256.25      1250\n"
     ]
    }
   ],
   "source": [
    "for bought, group in df.groupby(\"Bought\"):\n",
    "    print (bought)\n",
    "    print(group)"
   ]
  },
  {
   "cell_type": "code",
   "execution_count": 9,
   "metadata": {},
   "outputs": [
    {
     "data": {
      "text/html": [
       "<div>\n",
       "<style scoped>\n",
       "    .dataframe tbody tr th:only-of-type {\n",
       "        vertical-align: middle;\n",
       "    }\n",
       "\n",
       "    .dataframe tbody tr th {\n",
       "        vertical-align: top;\n",
       "    }\n",
       "\n",
       "    .dataframe thead th {\n",
       "        text-align: right;\n",
       "    }\n",
       "</style>\n",
       "<table border=\"1\" class=\"dataframe\">\n",
       "  <thead>\n",
       "    <tr style=\"text-align: right;\">\n",
       "      <th></th>\n",
       "      <th>Year</th>\n",
       "      <th>Month</th>\n",
       "      <th>Bought</th>\n",
       "      <th>Cost</th>\n",
       "      <th>Consumed</th>\n",
       "    </tr>\n",
       "  </thead>\n",
       "  <tbody>\n",
       "    <tr>\n",
       "      <td>count</td>\n",
       "      <td>14.000000</td>\n",
       "      <td>14.000000</td>\n",
       "      <td>14.000000</td>\n",
       "      <td>14.000000</td>\n",
       "      <td>14.000000</td>\n",
       "    </tr>\n",
       "    <tr>\n",
       "      <td>mean</td>\n",
       "      <td>2018.142857</td>\n",
       "      <td>5.785714</td>\n",
       "      <td>1160.714286</td>\n",
       "      <td>95.539286</td>\n",
       "      <td>1126.428571</td>\n",
       "    </tr>\n",
       "    <tr>\n",
       "      <td>std</td>\n",
       "      <td>0.363137</td>\n",
       "      <td>3.786181</td>\n",
       "      <td>662.216143</td>\n",
       "      <td>60.815949</td>\n",
       "      <td>318.424176</td>\n",
       "    </tr>\n",
       "    <tr>\n",
       "      <td>min</td>\n",
       "      <td>2018.000000</td>\n",
       "      <td>1.000000</td>\n",
       "      <td>250.000000</td>\n",
       "      <td>18.470000</td>\n",
       "      <td>450.000000</td>\n",
       "    </tr>\n",
       "    <tr>\n",
       "      <td>25%</td>\n",
       "      <td>2018.000000</td>\n",
       "      <td>2.250000</td>\n",
       "      <td>625.000000</td>\n",
       "      <td>56.655000</td>\n",
       "      <td>900.000000</td>\n",
       "    </tr>\n",
       "    <tr>\n",
       "      <td>50%</td>\n",
       "      <td>2018.000000</td>\n",
       "      <td>5.500000</td>\n",
       "      <td>1000.000000</td>\n",
       "      <td>78.195000</td>\n",
       "      <td>1250.000000</td>\n",
       "    </tr>\n",
       "    <tr>\n",
       "      <td>75%</td>\n",
       "      <td>2018.000000</td>\n",
       "      <td>8.750000</td>\n",
       "      <td>1500.000000</td>\n",
       "      <td>131.805000</td>\n",
       "      <td>1362.500000</td>\n",
       "    </tr>\n",
       "    <tr>\n",
       "      <td>max</td>\n",
       "      <td>2019.000000</td>\n",
       "      <td>12.000000</td>\n",
       "      <td>2500.000000</td>\n",
       "      <td>256.250000</td>\n",
       "      <td>1500.000000</td>\n",
       "    </tr>\n",
       "  </tbody>\n",
       "</table>\n",
       "</div>"
      ],
      "text/plain": [
       "              Year      Month       Bought        Cost     Consumed\n",
       "count    14.000000  14.000000    14.000000   14.000000    14.000000\n",
       "mean   2018.142857   5.785714  1160.714286   95.539286  1126.428571\n",
       "std       0.363137   3.786181   662.216143   60.815949   318.424176\n",
       "min    2018.000000   1.000000   250.000000   18.470000   450.000000\n",
       "25%    2018.000000   2.250000   625.000000   56.655000   900.000000\n",
       "50%    2018.000000   5.500000  1000.000000   78.195000  1250.000000\n",
       "75%    2018.000000   8.750000  1500.000000  131.805000  1362.500000\n",
       "max    2019.000000  12.000000  2500.000000  256.250000  1500.000000"
      ]
     },
     "execution_count": 9,
     "metadata": {},
     "output_type": "execute_result"
    }
   ],
   "source": [
    "df.describe()"
   ]
  },
  {
   "cell_type": "code",
   "execution_count": 10,
   "metadata": {},
   "outputs": [],
   "source": [
    "import numpy as np"
   ]
  },
  {
   "cell_type": "code",
   "execution_count": 13,
   "metadata": {},
   "outputs": [
    {
     "data": {
      "text/plain": [
       "[1, 2, 3, 4, 1, 2, 4, 5]"
      ]
     },
     "execution_count": 13,
     "metadata": {},
     "output_type": "execute_result"
    }
   ],
   "source": [
    "l = [1,2,4,5]\n",
    "k = [1,2,3,4]\n",
    "k + l "
   ]
  },
  {
   "cell_type": "code",
   "execution_count": 14,
   "metadata": {},
   "outputs": [
    {
     "data": {
      "text/plain": [
       "array([2, 4, 7, 9])"
      ]
     },
     "execution_count": 14,
     "metadata": {},
     "output_type": "execute_result"
    }
   ],
   "source": [
    "l2 = np.array([1,2,4,5])\n",
    "k2 = np.array([1,2,3,4])\n",
    "k2 + l2"
   ]
  },
  {
   "cell_type": "code",
   "execution_count": 15,
   "metadata": {},
   "outputs": [
    {
     "data": {
      "text/plain": [
       "list"
      ]
     },
     "execution_count": 15,
     "metadata": {},
     "output_type": "execute_result"
    }
   ],
   "source": [
    "type(k)"
   ]
  },
  {
   "cell_type": "code",
   "execution_count": 16,
   "metadata": {},
   "outputs": [
    {
     "data": {
      "text/plain": [
       "numpy.ndarray"
      ]
     },
     "execution_count": 16,
     "metadata": {},
     "output_type": "execute_result"
    }
   ],
   "source": [
    "type(k2)"
   ]
  },
  {
   "cell_type": "code",
   "execution_count": 17,
   "metadata": {},
   "outputs": [],
   "source": [
    "array2d = np.array([\n",
    "    [1,2,3],\n",
    "    [4,5,6]\n",
    "])\n",
    "array2d2 = np.array([\n",
    "    [1,2],\n",
    "    [4,5],\n",
    "    [3,6]\n",
    "])"
   ]
  },
  {
   "cell_type": "code",
   "execution_count": 18,
   "metadata": {},
   "outputs": [
    {
     "data": {
      "text/plain": [
       "array([[18, 30],\n",
       "       [42, 69]])"
      ]
     },
     "execution_count": 18,
     "metadata": {},
     "output_type": "execute_result"
    }
   ],
   "source": [
    "np.matmul(array2d, array2d2)"
   ]
  },
  {
   "cell_type": "code",
   "execution_count": 19,
   "metadata": {},
   "outputs": [
    {
     "data": {
      "text/plain": [
       "array([[18, 30],\n",
       "       [42, 69]])"
      ]
     },
     "execution_count": 19,
     "metadata": {},
     "output_type": "execute_result"
    }
   ],
   "source": [
    "array2d @ array2d2"
   ]
  },
  {
   "cell_type": "code",
   "execution_count": 20,
   "metadata": {},
   "outputs": [
    {
     "data": {
      "text/plain": [
       "(2, 3)"
      ]
     },
     "execution_count": 20,
     "metadata": {},
     "output_type": "execute_result"
    }
   ],
   "source": [
    "array2d.shape"
   ]
  },
  {
   "cell_type": "code",
   "execution_count": 21,
   "metadata": {},
   "outputs": [
    {
     "data": {
      "text/plain": [
       "array([[0., 0., 0., 0.],\n",
       "       [0., 0., 0., 0.],\n",
       "       [0., 0., 0., 0.]])"
      ]
     },
     "execution_count": 21,
     "metadata": {},
     "output_type": "execute_result"
    }
   ],
   "source": [
    "np.zeros((3, 4))"
   ]
  },
  {
   "cell_type": "code",
   "execution_count": 22,
   "metadata": {},
   "outputs": [],
   "source": [
    "sarray = np.array([\n",
    "    [1,2,3],\n",
    "    [4,5,3],\n",
    "    [9,16,3],\n",
    "])"
   ]
  },
  {
   "cell_type": "code",
   "execution_count": 23,
   "metadata": {},
   "outputs": [
    {
     "data": {
      "text/plain": [
       "array([[-0.61111111,  0.77777778, -0.16666667],\n",
       "       [ 0.27777778, -0.44444444,  0.16666667],\n",
       "       [ 0.35185185,  0.03703704, -0.05555556]])"
      ]
     },
     "execution_count": 23,
     "metadata": {},
     "output_type": "execute_result"
    }
   ],
   "source": [
    "np.linalg.inv(sarray)"
   ]
  },
  {
   "cell_type": "code",
   "execution_count": 24,
   "metadata": {},
   "outputs": [
    {
     "data": {
      "text/plain": [
       "array([[ 438,  660,  342],\n",
       "       [ 699, 1083,  504],\n",
       "       [1440, 2274,  990]])"
      ]
     },
     "execution_count": 24,
     "metadata": {},
     "output_type": "execute_result"
    }
   ],
   "source": [
    "np.linalg.matrix_power(sarray, 3)"
   ]
  },
  {
   "cell_type": "code",
   "execution_count": 25,
   "metadata": {},
   "outputs": [
    {
     "data": {
      "text/plain": [
       "array([0, 1, 2, 3, 4, 5, 6, 7, 8, 9])"
      ]
     },
     "execution_count": 25,
     "metadata": {},
     "output_type": "execute_result"
    }
   ],
   "source": [
    "np.arange(10)"
   ]
  },
  {
   "cell_type": "code",
   "execution_count": 26,
   "metadata": {},
   "outputs": [
    {
     "data": {
      "text/plain": [
       "array([   0.        ,  111.11111111,  222.22222222,  333.33333333,\n",
       "        444.44444444,  555.55555556,  666.66666667,  777.77777778,\n",
       "        888.88888889, 1000.        ])"
      ]
     },
     "execution_count": 26,
     "metadata": {},
     "output_type": "execute_result"
    }
   ],
   "source": [
    "np.linspace(0, 1000, 10)"
   ]
  },
  {
   "cell_type": "code",
   "execution_count": 27,
   "metadata": {},
   "outputs": [
    {
     "data": {
      "text/plain": [
       "array([[726, 582, 905, 955, 755],\n",
       "       [224, 977, 510, 359, 957]])"
      ]
     },
     "execution_count": 27,
     "metadata": {},
     "output_type": "execute_result"
    }
   ],
   "source": [
    "np.random.randint(1,1000, (2,5))"
   ]
  },
  {
   "cell_type": "code",
   "execution_count": 29,
   "metadata": {},
   "outputs": [
    {
     "data": {
      "text/plain": [
       "16"
      ]
     },
     "execution_count": 29,
     "metadata": {},
     "output_type": "execute_result"
    }
   ],
   "source": [
    "sarray[2, 1]"
   ]
  }
 ],
 "metadata": {
  "kernelspec": {
   "display_name": "Python 3",
   "language": "python",
   "name": "python3"
  },
  "language_info": {
   "codemirror_mode": {
    "name": "ipython",
    "version": 3
   },
   "file_extension": ".py",
   "mimetype": "text/x-python",
   "name": "python",
   "nbconvert_exporter": "python",
   "pygments_lexer": "ipython3",
   "version": "3.7.4"
  }
 },
 "nbformat": 4,
 "nbformat_minor": 2
}
